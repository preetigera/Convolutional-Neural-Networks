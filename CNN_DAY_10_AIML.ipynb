{
  "nbformat": 4,
  "nbformat_minor": 0,
  "metadata": {
    "colab": {
      "provenance": []
    },
    "kernelspec": {
      "name": "python3",
      "display_name": "Python 3"
    },
    "language_info": {
      "name": "python"
    }
  },
  "cells": [
    {
      "cell_type": "code",
      "execution_count": null,
      "metadata": {
        "id": "eBI9vTMKvMPv"
      },
      "outputs": [],
      "source": [
        "\n",
        "import tensorflow as tf\n",
        "from tensorflow.keras import layers, models\n",
        "from tensorflow.keras.datasets import mnist"
      ]
    },
    {
      "cell_type": "code",
      "source": [
        "\n",
        "(train_images, train_labels), (test_images, test_labels)=mnist.load_data()"
      ],
      "metadata": {
        "colab": {
          "base_uri": "https://localhost:8080/"
        },
        "id": "bw_EKDRFvV-x",
        "outputId": "662d6c5d-692b-4963-f436-fec458d0f976"
      },
      "execution_count": null,
      "outputs": [
        {
          "output_type": "stream",
          "name": "stdout",
          "text": [
            "Downloading data from https://storage.googleapis.com/tensorflow/tf-keras-datasets/mnist.npz\n",
            "\u001b[1m11490434/11490434\u001b[0m \u001b[32m━━━━━━━━━━━━━━━━━━━━\u001b[0m\u001b[37m\u001b[0m \u001b[1m0s\u001b[0m 0us/step\n"
          ]
        }
      ]
    },
    {
      "cell_type": "code",
      "source": [
        "\n",
        "#normalize pixel values to be between 0 and 1\n",
        "train_images=train_images.astype('float32')/255.0\n",
        "test_images=test_images.astype('float32')/255.0"
      ],
      "metadata": {
        "id": "8hY9-oKHvZOu"
      },
      "execution_count": null,
      "outputs": []
    },
    {
      "cell_type": "code",
      "source": [
        "\n",
        "#reshape the images into the format expected by the neural network\n",
        "train_images=train_images.reshape((60000,28,28,1))\n",
        "test_images=test_images.reshape((10000,28,28,1))"
      ],
      "metadata": {
        "id": "ASy59Lmpvb-e"
      },
      "execution_count": null,
      "outputs": []
    },
    {
      "cell_type": "code",
      "source": [
        "\n",
        "#encode the labels using one-hot encoding\n",
        "from tensorflow.keras.utils import to_categorical\n",
        "train_labels=to_categorical(train_labels)\n",
        "test_labels=to_categorical(test_labels)"
      ],
      "metadata": {
        "id": "1Gb8tTHQviBv"
      },
      "execution_count": null,
      "outputs": []
    },
    {
      "cell_type": "code",
      "source": [
        "\n",
        "model=models.Sequential()\n",
        "model.add(layers.Conv2D(32,(3,3),activation='relu',input_shape=(28,28,1)))\n",
        "model.add(layers.MaxPooling2D((2,2)))\n",
        "model.add(layers.Conv2D(64,(3,3),activation='relu'))\n",
        "model.add(layers.MaxPooling2D((2,2)))\n",
        "model.add(layers.Conv2D(64,(3,3),activation='relu'))\n",
        "model.add(layers.Flatten())\n",
        "model.add(layers.Dense(64,activation='relu'))\n",
        "model.add(layers.Dense(10,activation='softmax'))"
      ],
      "metadata": {
        "colab": {
          "base_uri": "https://localhost:8080/"
        },
        "id": "R83P1iXCvn1u",
        "outputId": "22d262f7-d6e8-430a-c711-01960cae8c40"
      },
      "execution_count": null,
      "outputs": [
        {
          "output_type": "stream",
          "name": "stderr",
          "text": [
            "/usr/local/lib/python3.10/dist-packages/keras/src/layers/convolutional/base_conv.py:107: UserWarning: Do not pass an `input_shape`/`input_dim` argument to a layer. When using Sequential models, prefer using an `Input(shape)` object as the first layer in the model instead.\n",
            "  super().__init__(activity_regularizer=activity_regularizer, **kwargs)\n"
          ]
        }
      ]
    },
    {
      "cell_type": "code",
      "source": [
        "\n",
        "#Compile the model: Specify the loss function, optimizer, and metrics for model compilation\n",
        "#adm=Adaptive Moment Estimation\n",
        "model.compile(optimizer='adam',\n",
        "              loss='categorical_crossentropy',\n",
        "              metrics=['accuracy'])"
      ],
      "metadata": {
        "id": "AsuhvLXJvtHn"
      },
      "execution_count": null,
      "outputs": []
    },
    {
      "cell_type": "code",
      "source": [
        "\n",
        "#Train the Model: Train the model using the training data\n",
        "model.fit(train_images,train_labels,epochs=10,batch_size=64,validation_split=0.2)"
      ],
      "metadata": {
        "colab": {
          "base_uri": "https://localhost:8080/"
        },
        "id": "X8lf7WNkvuCI",
        "outputId": "9c3e2180-6866-4cad-98f7-f81a786d6fce"
      },
      "execution_count": null,
      "outputs": [
        {
          "output_type": "stream",
          "name": "stdout",
          "text": [
            "Epoch 1/10\n",
            "\u001b[1m750/750\u001b[0m \u001b[32m━━━━━━━━━━━━━━━━━━━━\u001b[0m\u001b[37m\u001b[0m \u001b[1m43s\u001b[0m 54ms/step - accuracy: 0.8375 - loss: 0.4852 - val_accuracy: 0.9809 - val_loss: 0.0621\n",
            "Epoch 2/10\n",
            "\u001b[1m750/750\u001b[0m \u001b[32m━━━━━━━━━━━━━━━━━━━━\u001b[0m\u001b[37m\u001b[0m \u001b[1m82s\u001b[0m 55ms/step - accuracy: 0.9810 - loss: 0.0617 - val_accuracy: 0.9857 - val_loss: 0.0481\n",
            "Epoch 3/10\n",
            "\u001b[1m750/750\u001b[0m \u001b[32m━━━━━━━━━━━━━━━━━━━━\u001b[0m\u001b[37m\u001b[0m \u001b[1m42s\u001b[0m 56ms/step - accuracy: 0.9858 - loss: 0.0427 - val_accuracy: 0.9843 - val_loss: 0.0493\n",
            "Epoch 4/10\n",
            "\u001b[1m750/750\u001b[0m \u001b[32m━━━━━━━━━━━━━━━━━━━━\u001b[0m\u001b[37m\u001b[0m \u001b[1m79s\u001b[0m 53ms/step - accuracy: 0.9895 - loss: 0.0327 - val_accuracy: 0.9862 - val_loss: 0.0440\n",
            "Epoch 5/10\n",
            "\u001b[1m750/750\u001b[0m \u001b[32m━━━━━━━━━━━━━━━━━━━━\u001b[0m\u001b[37m\u001b[0m \u001b[1m43s\u001b[0m 55ms/step - accuracy: 0.9930 - loss: 0.0227 - val_accuracy: 0.9898 - val_loss: 0.0367\n",
            "Epoch 6/10\n",
            "\u001b[1m750/750\u001b[0m \u001b[32m━━━━━━━━━━━━━━━━━━━━\u001b[0m\u001b[37m\u001b[0m \u001b[1m81s\u001b[0m 54ms/step - accuracy: 0.9942 - loss: 0.0187 - val_accuracy: 0.9902 - val_loss: 0.0369\n",
            "Epoch 7/10\n",
            "\u001b[1m750/750\u001b[0m \u001b[32m━━━━━━━━━━━━━━━━━━━━\u001b[0m\u001b[37m\u001b[0m \u001b[1m43s\u001b[0m 57ms/step - accuracy: 0.9955 - loss: 0.0139 - val_accuracy: 0.9904 - val_loss: 0.0338\n",
            "Epoch 8/10\n",
            "\u001b[1m750/750\u001b[0m \u001b[32m━━━━━━━━━━━━━━━━━━━━\u001b[0m\u001b[37m\u001b[0m \u001b[1m79s\u001b[0m 53ms/step - accuracy: 0.9960 - loss: 0.0130 - val_accuracy: 0.9878 - val_loss: 0.0431\n",
            "Epoch 9/10\n",
            "\u001b[1m750/750\u001b[0m \u001b[32m━━━━━━━━━━━━━━━━━━━━\u001b[0m\u001b[37m\u001b[0m \u001b[1m42s\u001b[0m 55ms/step - accuracy: 0.9957 - loss: 0.0115 - val_accuracy: 0.9876 - val_loss: 0.0478\n",
            "Epoch 10/10\n",
            "\u001b[1m750/750\u001b[0m \u001b[32m━━━━━━━━━━━━━━━━━━━━\u001b[0m\u001b[37m\u001b[0m \u001b[1m80s\u001b[0m 53ms/step - accuracy: 0.9964 - loss: 0.0109 - val_accuracy: 0.9889 - val_loss: 0.0494\n"
          ]
        },
        {
          "output_type": "execute_result",
          "data": {
            "text/plain": [
              "<keras.src.callbacks.history.History at 0x7e3446db3040>"
            ]
          },
          "metadata": {},
          "execution_count": 8
        }
      ]
    },
    {
      "cell_type": "code",
      "source": [
        "\n",
        "#evaluate the model: evaluate the trained model on the test data\n",
        "test_loss,test_acc=model.evaluate(test_images,test_labels)\n",
        "print(f'Test accuracy: {test_acc}')"
      ],
      "metadata": {
        "colab": {
          "base_uri": "https://localhost:8080/"
        },
        "id": "OvKPk5BUvxQZ",
        "outputId": "f802bf92-2616-4123-dc19-4db6788d2215"
      },
      "execution_count": null,
      "outputs": [
        {
          "output_type": "stream",
          "name": "stdout",
          "text": [
            "\u001b[1m313/313\u001b[0m \u001b[32m━━━━━━━━━━━━━━━━━━━━\u001b[0m\u001b[37m\u001b[0m \u001b[1m6s\u001b[0m 19ms/step - accuracy: 0.9873 - loss: 0.0498\n",
            "Test accuracy: 0.9898999929428101\n"
          ]
        }
      ]
    },
    {
      "cell_type": "code",
      "source": [
        "\n",
        "#make predictions: use the trained model to make predictions on new data\n",
        "predictions=model.predict(test_images)"
      ],
      "metadata": {
        "colab": {
          "base_uri": "https://localhost:8080/"
        },
        "id": "aXTjF_Tkv1_e",
        "outputId": "a5663fa7-8081-42bc-a19a-0e21ccbfed9c"
      },
      "execution_count": null,
      "outputs": [
        {
          "output_type": "stream",
          "name": "stdout",
          "text": [
            "\u001b[1m313/313\u001b[0m \u001b[32m━━━━━━━━━━━━━━━━━━━━\u001b[0m\u001b[37m\u001b[0m \u001b[1m3s\u001b[0m 10ms/step\n"
          ]
        }
      ]
    },
    {
      "cell_type": "code",
      "source": [
        "#make predictions on the test set\n",
        "predictions=model.predict(test_images)\n",
        "\n",
        "#get the index of the class with the highest peobability for each prediction\n",
        "predicted_labels=predictions.argmax(axis=1)\n",
        "\n",
        "#display the first few predictions\n",
        "for i in range(5):\n",
        "  print(f\"Actual Label: {test_labels[i].argmax()}, Predicted Label: {predicted_labels[i]}\")\n",
        "\n",
        "#optionally, you can visualize the images and their predictions\n",
        "import matplotlib.pyplot as plt\n",
        "\n",
        "def plot_images(i,predictions_array,true_label,img):\n",
        "  predictions_array,true_label,img=predictions_array[i], true_label[i].argmax(),img[i].reshape(28,28)\n",
        "  plt.grid('FALSE')\n",
        "  plt.xticks([])\n",
        "  plt.yticks([])\n",
        "\n",
        "  plt.imshow(img,cmap=plt.cm.binary)\n",
        "\n",
        "  predicted_label=predictions_array.argmax()\n",
        "  color='blue' if predicted_label == true_label else 'red'\n",
        "\n",
        "  plt.xlabel(f\"Predicted: {predicted_label} ({100* tf.reduce_max(predictions_array):.2f}%),Actual:{true_label}\",color=color)\n",
        "\n",
        "#visualise the predictions\n",
        "num_rows=5\n",
        "num_cols=3\n",
        "num_images=num_rows*num_cols\n",
        "plt.figure(figsize=(2*2*num_cols,2*num_rows))\n",
        "for i in range(num_images):\n",
        "  plt.subplot(num_rows,2*num_cols,2*i+1)\n",
        "  plot_images(i,predictions,test_labels,test_images)\n",
        "plt.show()"
      ],
      "metadata": {
        "colab": {
          "base_uri": "https://localhost:8080/",
          "height": 930
        },
        "id": "UByJlfPHv4et",
        "outputId": "2441349f-14fd-4691-d59a-d6f4310eddd8"
      },
      "execution_count": null,
      "outputs": [
        {
          "output_type": "stream",
          "name": "stdout",
          "text": [
            "\u001b[1m313/313\u001b[0m \u001b[32m━━━━━━━━━━━━━━━━━━━━\u001b[0m\u001b[37m\u001b[0m \u001b[1m3s\u001b[0m 8ms/step\n",
            "Actual Label: 7, Predicted Label: 7\n",
            "Actual Label: 2, Predicted Label: 2\n",
            "Actual Label: 1, Predicted Label: 1\n",
            "Actual Label: 0, Predicted Label: 0\n",
            "Actual Label: 4, Predicted Label: 4\n"
          ]
        },
        {
          "output_type": "display_data",
          "data": {
            "text/plain": [
              "<Figure size 1200x1000 with 15 Axes>"
            ],
            "image/png": "[encoded data removed]"
          },
          "metadata": {}
        }
      ]
    },
    {
      "cell_type": "code",
      "source": [],
      "metadata": {
        "id": "34WtZ1VXv8qX"
      },
      "execution_count": null,
      "outputs": []
    }
  ]
}